{
  "cells": [
    {
      "cell_type": "markdown",
      "metadata": {
        "id": "4TG0ZwfafGxM"
      },
      "source": [
        "# LSTM-VQE for Molecule"
      ]
    },
    {
      "cell_type": "code",
      "execution_count": null,
      "metadata": {
        "id": "uO2BjXiEfCFO"
      },
      "outputs": [],
      "source": [
        "!pip install pennylane\n",
        "!pip install aiohttp fsspec h5py\n",
        "!pip install pennylane-lightning\n",
        "!python -m pip install pennylane pennylane-lightning pennylane-lightning-gpu --upgrade\n",
        "!pip install custatevec-cu12"
      ]
    },
    {
      "cell_type": "code",
      "execution_count": null,
      "metadata": {
        "id": "aPm3F0NKfIzR"
      },
      "outputs": [],
      "source": [
        "import numpy as np\n",
        "import pandas as pd\n",
        "import pennylane as qml\n",
        "from pennylane import qchem\n",
        "import matplotlib.pyplot as plt\n",
        "import tensorflow as tf\n",
        "from scipy.optimize import minimize\n",
        "import optax\n",
        "from jax import numpy as np\n",
        "import jax\n",
        "import time\n",
        "\n",
        "import os\n",
        "import logging\n",
        "\n",
        "# 設置靜音等級\n",
        "os.environ['TF_CPP_MIN_LOG_LEVEL'] = '2'  # 僅顯示錯誤，忽略警告\n",
        "tf.get_logger().setLevel(logging.ERROR)"
      ]
    },
    {
      "cell_type": "markdown",
      "metadata": {
        "id": "h3gUfPZcfLQN"
      },
      "source": [
        "## Loaded data <a name=\"loadeddata\"></a>"
      ]
    },
    {
      "cell_type": "code",
      "execution_count": null,
      "metadata": {
        "id": "NWy0MxcofMS2"
      },
      "outputs": [],
      "source": [
        "def load_data(molecule, basis=\"STO-3G\"):\n",
        "  data_list = []\n",
        "\n",
        "  for mol,bondlengths in molecule:\n",
        "    # If bondlengths is None, load default bond length\n",
        "    if bondlengths is None:\n",
        "      data = qml.data.load(\"qchem\", molname=mol, basis=basis)\n",
        "\n",
        "    else:\n",
        "      # Otherwise, iterate over the bond lengths\n",
        "      data = qml.data.load(\"qchem\", molname=mol, basis=basis, bondlength=bondlengths)\n",
        "\n",
        "    for entry in data:\n",
        "      data_list.append(entry)\n",
        "\n",
        "  df = pd.DataFrame(data_list)\n",
        "  return df\n",
        "\n",
        "# Input molecule data\n",
        "# HeH2 only has 6-31G, also, C2H6, CO2, N2H4, C2H4, N2H2, CH2O, C2H2 no data\n",
        "# molecule = [\"LiH\", \"Li2\", \"N2\", \"CO2\", \"BH3\", \"H2O2\", \"O2\", \"CO\", \"C2\", \"H4\", \"BeH2\", \"H3+\", \"NH3\", \"H2O\",\n",
        "            #\"CH4\", \"HeH+\", \"H8\", \"H10\", \"NeH+\", \"OH-\", \"H6\", \"HF\", \"H2\"]\n",
        "\n",
        "molecule = [\n",
        "    (\"H2\", None),\n",
        "    (\"H4\", None),\n",
        "    (\"H6\", None)\n",
        "]\n",
        "\n",
        "# Load dataset\n",
        "dataset = load_data(molecule, basis=\"STO-3G\")\n",
        "print(dataset.head())"
      ]
    },
    {
      "cell_type": "markdown",
      "metadata": {
        "id": "pe0zIYQdfOVH"
      },
      "source": [
        "## Proprocess <a name=\"proprocess\"></a>"
      ]
    },
    {
      "cell_type": "code",
      "execution_count": null,
      "metadata": {
        "id": "-YX7nlqpfOsp"
      },
      "outputs": [],
      "source": [
        "max_qubits = 0\n",
        "\n",
        "for i in range(len(dataset[0])):\n",
        "  if len(dataset[0][i].hf_state) > max_qubits:\n",
        "    max_qubits = len(dataset[0][i].hf_state)\n",
        "\n",
        "print(max_qubits)"
      ]
    },
    {
      "cell_type": "code",
      "execution_count": null,
      "metadata": {
        "id": "XVMtDpiWfPtr"
      },
      "outputs": [],
      "source": [
        "def electrons_and_orbitals(hf_state):\n",
        "  electrons = sum(hf_state)\n",
        "  orbitals = int(len(hf_state))\n",
        "\n",
        "  return electrons, orbitals"
      ]
    },
    {
      "cell_type": "code",
      "execution_count": null,
      "metadata": {
        "id": "krpmet7xfS4M"
      },
      "outputs": [],
      "source": [
        "def max_params (dataset):\n",
        "  max_s_wires = 0\n",
        "  max_d_wires = 0\n",
        "\n",
        "  for data in dataset:\n",
        "    electrons, orbitals = electrons_and_orbitals(data.hf_state)\n",
        "\n",
        "    single, double = qchem.excitations(electrons, orbitals)\n",
        "    s_w, d_w = qml.qchem.excitations_to_wires(single, double)\n",
        "    single = len(s_w)\n",
        "    double = len(d_w)\n",
        "    max_s_wires = max(max_s_wires, single)\n",
        "    max_d_wires = max(max_d_wires, double)\n",
        "\n",
        "  return max_s_wires, max_d_wires\n",
        "\n",
        "max_s_params, max_d_params = max_params(dataset[0])\n",
        "print(f\"the number of max single wires: {max_s_params}\")\n",
        "print(f\"the number of max double wires: {max_d_params}\")"
      ]
    },
    {
      "cell_type": "code",
      "execution_count": null,
      "metadata": {
        "id": "flAc61JPfQq2"
      },
      "outputs": [],
      "source": [
        "# for test\n",
        "\n",
        "dataset_list = list(dataset[0])\n",
        "train_set = dataset_list[:len(molecule)-1]\n",
        "test_set = dataset_list[len(molecule)-1]\n",
        "print(f\"train set: {train_set}\")\n",
        "print(f\"test set: {test_set}\")"
      ]
    },
    {
      "cell_type": "markdown",
      "metadata": {
        "id": "1UWVuguJfUIY"
      },
      "source": [
        "## Model <a name=\"model\"></a>"
      ]
    },
    {
      "cell_type": "code",
      "execution_count": null,
      "metadata": {
        "id": "U35kydlxfVcN"
      },
      "outputs": [],
      "source": [
        "def vqe_molecule_u(data,max_qubits):\n",
        "\n",
        "  # Number of qubits (wires) equal to the max qubits\n",
        "  wires = range(max_qubits)\n",
        "  # Number of qubits (wires) equal to the number of qubits required for the HF state\n",
        "  orbitals = len(data.hf_state)\n",
        "  # the number of electrons and molecules\n",
        "  electrons = sum(data.hf_state)\n",
        "  # the wires of single and double excitations\n",
        "  single_wires, double_wires = qchem.excitations(electrons,orbitals)\n",
        "  s_wires, d_wires = qml.qchem.excitations_to_wires(single_wires, double_wires)\n",
        "\n",
        "  num_single = len(d_wires)\n",
        "  num_double = len(s_wires)\n",
        "\n",
        "  # Create the actual quantum circuit for the VQE algorithm\n",
        "  def circuit(params, wires):\n",
        "\n",
        "    # the params for single and double excitations\n",
        "    params = tf.reshape(params, (max_s_params + max_d_params,))\n",
        "\n",
        "    single_params = params[:num_single]\n",
        "\n",
        "    double_params = params[max_s_params: max_s_params + num_double]\n",
        "\n",
        "    initial_params_u = tf.concat([single_params, double_params], axis=0)\n",
        "\n",
        "    qml.UCCSD(initial_params_u, range(orbitals), s_wires, d_wires, data.hf_state)\n",
        "    # # something we want to train, ansatz\n",
        "    # if ansatzs == \"UCCSD\":\n",
        "    #   qml.UCCSD(initial_params_u, range(orbitals), s_wires, d_wires, data.hf_state)\n",
        "    # elif ansatzs == \"StronglyEntangling\":\n",
        "    #   qml.templates.StronglyEntanglingLayers(weights = params, wires = wires)\n",
        "    # elif ansatzs == \"HEA\":\n",
        "    #   qml.HEA(initial_params_u, range(orbitals), s_wires, d_wires, data.hf_state)\n",
        "\n",
        "    return qml.expval(data.hamiltonian)\n",
        "\n",
        "  # Evaluates the cost Hamiltonian\n",
        "  def hamiltonian_cost(params, **kwargs):\n",
        "    # Define device\n",
        "    # This qnode evaluates the expectation value of the cost hamiltonian operator\n",
        "    dev = qml.device(\"lightning.qubit\", wires=wires)\n",
        "    cost = qml.QNode(circuit, dev, diff_method=\"adjoint\", interface=\"tf\")\n",
        "\n",
        "    return cost(params, wires = wires)\n",
        "\n",
        "  return hamiltonian_cost"
      ]
    },
    {
      "cell_type": "code",
      "execution_count": null,
      "metadata": {
        "id": "Rne9gLDQfW0d"
      },
      "outputs": [],
      "source": [
        "def vqe_optimization(molecule_cost, initial_params, max_iter=10, learning_rate=0.1, conv_tol = 1e-6):\n",
        "\n",
        "    opt = tf.keras.optimizers.Adam(learning_rate=learning_rate)\n",
        "    # opt = qml.AdamOptimizer(stepsize=learning_rate)\n",
        "\n",
        "    # 初始化变量来存储迭代信息\n",
        "    params = tf.Variable(initial_params)\n",
        "    energy_history = [molecule_cost(params)]\n",
        "    param_history = [params]\n",
        "    conv_iter = max_iter\n",
        "\n",
        "    # 优化循环\n",
        "    for iteration in range(max_iter):\n",
        "        # 计算梯度并更新参数\n",
        "        with tf.GradientTape() as tape:\n",
        "            cost = molecule_cost(params)\n",
        "        gradient = tape.gradient(cost, params)\n",
        "\n",
        "        opt.apply_gradients(zip([gradient],[params]))\n",
        "        param_history.append(params)\n",
        "        energy_history.append(molecule_cost(params))\n",
        "\n",
        "        conv = np.abs(energy_history[-1].numpy() - energy_history[-2].numpy())\n",
        "\n",
        "        # 打印当前迭代的参数和能量值\n",
        "        if iteration%10 == 0:\n",
        "          print(f\"Step =  {iteration+1}/{max_iter}, Energy= {energy_history[-1]:.8f} Ha\")\n",
        "\n",
        "        if conv <= conv_tol:\n",
        "          conv_iter = iteration+1\n",
        "          break\n",
        "\n",
        "    # 返回优化后的参数和能量值，以及每次迭代的记录\n",
        "    return conv_iter, param_history[-1], energy_history[-1], param_history, energy_history"
      ]
    },
    {
      "cell_type": "code",
      "execution_count": null,
      "metadata": {
        "id": "-O139BNgfYpf"
      },
      "outputs": [],
      "source": [
        "param_dim_u = max_s_params + max_d_params\n",
        "cell_units_u = param_dim_u\n",
        "cell_u = tf.keras.layers.LSTMCell(cell_units_u)\n",
        "model_u = tf.keras.Sequential([cell_u])"
      ]
    },
    {
      "cell_type": "code",
      "execution_count": null,
      "metadata": {
        "id": "OkBrp25GNTak"
      },
      "outputs": [],
      "source": [
        "# 全局定義\n",
        "param_dim_u = max_s_params + max_d_params\n",
        "cell_units_u = param_dim_u\n",
        "cell_u = tf.keras.layers.LSTMCell(cell_units_u)\n",
        "# 構建 cell_u\n",
        "input_shape = (None, 1 + param_dim_u)\n",
        "cell_u.build(input_shape)"
      ]
    },
    {
      "cell_type": "code",
      "execution_count": null,
      "metadata": {
        "id": "oRV0HtaFfY_I"
      },
      "outputs": [],
      "source": [
        "initial_h_u = tf.zeros(shape=(1, cell_units_u), dtype=tf.float32)\n",
        "initial_c_u = tf.zeros(shape=(1, cell_units_u), dtype=tf.float32)\n",
        "initial_cost_u = tf.zeros(shape=(1, 1), dtype=tf.float32)\n",
        "initial_params_u = tf.zeros(shape=(1,param_dim_u), dtype=tf.float32)"
      ]
    },
    {
      "cell_type": "code",
      "execution_count": null,
      "metadata": {
        "id": "cfOj_DbMfZ_q"
      },
      "outputs": [],
      "source": [
        "molecule_cost_list_u = [vqe_molecule_u(m, max_qubits) for m in train_set]"
      ]
    },
    {
      "cell_type": "code",
      "execution_count": null,
      "metadata": {
        "id": "M2K6Gvj7fbKV"
      },
      "outputs": [],
      "source": [
        "def rnn_iteration_u(inputs, molecule_cost, param_dim):\n",
        "    prev_cost, prev_params, prev_h, prev_c = inputs\n",
        "    new_input = tf.keras.layers.concatenate([prev_cost, prev_params])\n",
        "    new_params, [new_h, new_c] = cell_u(new_input, states=[prev_h, prev_c])\n",
        "    _params = tf.reshape(new_params, [param_dim])\n",
        "    _cost = molecule_cost(_params)\n",
        "    new_cost = tf.reshape(tf.cast(_cost, dtype=tf.float32), shape=(1, 1))\n",
        "    return [new_cost, new_params, new_h, new_c]"
      ]
    },
    {
      "cell_type": "code",
      "execution_count": null,
      "metadata": {
        "id": "SAIMyFXUffBL"
      },
      "outputs": [],
      "source": [
        "def recurrent_loop_u(molecule_cost, param_dim = param_dim_u, steps = 5, intermediate_steps=False):\n",
        "    \"\"\"Creates the recurrent loop for the Recurrent Neural Network.\"\"\"\n",
        "\n",
        "    initial_cost = tf.zeros(shape=(1, 1), dtype=tf.float32)\n",
        "    initial_params = tf.zeros((1, param_dim), dtype=tf.float32)\n",
        "    initial_h = tf.zeros(shape=(1, cell_u.units), dtype=tf.float32)\n",
        "    initial_c = tf.zeros(shape=(1, cell_u.units), dtype=tf.float32)\n",
        "\n",
        "    inputs = [initial_cost, initial_params, initial_h, initial_c]\n",
        "    param_outputs = []\n",
        "    cost_outputs = []\n",
        "\n",
        "\n",
        "    for _ in range(steps):\n",
        "      inputs = rnn_iteration_u(inputs, molecule_cost, param_dim)\n",
        "      param_outputs.append(inputs[1])\n",
        "      cost_outputs.append(inputs[0])\n",
        "\n",
        "\n",
        "\n",
        "    #min_cost = float('inf')\n",
        "    #min_cost_j_list = []\n",
        "    loss = 0\n",
        "    min_cost = cost_outputs[0]\n",
        "\n",
        "    for t in range(1,len(cost_outputs)):\n",
        "      min_cost = tf.minimum(min_cost, cost_outputs[t-1]) #t and max(next line) is good too\n",
        "      loss += tf.maximum(0.0, cost_outputs[t] - min_cost)\n",
        "      #loss += tf.maximum(0.0, cost_outputs[t]-min_cost)\n",
        "    #  min_cost_j = cost_outputs[t-1]\n",
        "    #  for j in range(t):\n",
        "    #    if cost_outputs[j] < min_cost_j:\n",
        "    #      min_cost_j = cost_outputs[j]\n",
        "    #  loss += (cost_outputs[t] - min_cost_j)\n",
        "\n",
        "    if intermediate_steps:\n",
        "        return param_outputs + [loss]\n",
        "    else:\n",
        "        return loss"
      ]
    },
    {
      "cell_type": "code",
      "execution_count": null,
      "metadata": {
        "id": "s99cs-zGfgj9"
      },
      "outputs": [],
      "source": [
        "def train_step_u(molecule_cost, param_dim = param_dim_u, steps = 10):\n",
        "    \"\"\"Single optimization step in the training procedure.\"\"\"\n",
        "\n",
        "    with tf.GradientTape() as tape:\n",
        "        loss = tf.cast(recurrent_loop_u(molecule_cost=molecule_cost, param_dim=param_dim, steps = steps), dtype=tf.float32)\n",
        "    # Evaluates gradients, cell is the LSTM cell defined previously\n",
        "    grads = tape.gradient(loss, cell_u.trainable_weights)\n",
        "\n",
        "    #print(\"Gradients:\", grads)\n",
        "\n",
        "    # Apply gradients and update the weights of the LSTM cell\n",
        "    opt_u.apply_gradients(zip(grads, cell_u.trainable_weights))\n",
        "\n",
        "    return loss"
      ]
    },
    {
      "cell_type": "code",
      "execution_count": null,
      "metadata": {
        "id": "I02RY4gofg-M"
      },
      "outputs": [],
      "source": [
        "lr_schedule = tf.keras.optimizers.schedules.ExponentialDecay(\n",
        "    initial_learning_rate=0.01,\n",
        "    decay_steps=100,\n",
        "    decay_rate=0.9,\n",
        "    staircase=True\n",
        ")\n",
        "\n",
        "opt_u = tf.keras.optimizers.Adam(learning_rate=lr_schedule)\n",
        "\n",
        "# Set the number of training epochs\n",
        "epochs_u = 50\n",
        "steps_per_epoch_u = 5\n",
        "\n",
        "previous_mean_loss_u = None\n",
        "\n",
        "for epoch in range(epochs_u):\n",
        "\n",
        "    start_time = time.time()\n",
        "\n",
        "    if epoch % 10 == 0:\n",
        "      print(f\"Epoch {epoch+1}/{epochs_u}\")\n",
        "\n",
        "    epoch_loss_u = []\n",
        "    for i, molecule_cost in enumerate(molecule_cost_list_u):\n",
        "        loss_u = train_step_u(molecule_cost, param_dim_u, steps = steps_per_epoch_u)\n",
        "        epoch_loss_u.append(loss_u.numpy())\n",
        "\n",
        "        # Log every 5 batches.\n",
        "        if i % 10 == 0:\n",
        "            print(f\" > Molecule {i+1}/{len(molecule_cost_list_u)} - Loss: {loss_u.numpy()[0][0]:.8f}\") #[0][0]\n",
        "            print(f\" > steps_per_epoch: {steps_per_epoch_u}\")\n",
        "\n",
        "    epoch_loss_u = np.array(epoch_loss_u)\n",
        "    mean_loss_u = np.mean(epoch_loss_u)\n",
        "\n",
        "    if epoch % 10 == 0:\n",
        "      print(f\" > Mean loss: {mean_loss_u}\")\n",
        "\n",
        "    if mean_loss_u > 1e-2:\n",
        "      steps_per_epoch_u = min(steps_per_epoch_u + 2, 15)\n",
        "    elif mean_loss_u < 1e-3:\n",
        "      steps_per_epoch_u = max(steps_per_epoch_u -2, 5)\n",
        "\n",
        "    #if epoch > 0 and abs(previous_mean_loss - mean_loss) < 1e-4:\n",
        "     # print(f\"Training Converged at Epoch {epoch+1}\")\n",
        "      #break\n",
        "\n",
        "    if previous_mean_loss_u is not None:\n",
        "        rel_change_u = abs(previous_mean_loss_u - mean_loss_u) / abs(previous_mean_loss_u)\n",
        "        if rel_change_u < 1e-4:\n",
        "            print(f\"Training Converged at Epoch {epoch+1}\")\n",
        "            break\n",
        "\n",
        "    # Update the previous mean loss\n",
        "    previous_mean_loss_u = mean_loss_u\n",
        "\n",
        "    end_time = time.time()\n",
        "    execution_time = end_time - start_time\n",
        "\n",
        "\n",
        "    print(f\"Execution time of train for {epoch+1}: {execution_time:.1f} seconds\")"
      ]
    },
    {
      "cell_type": "markdown",
      "metadata": {
        "id": "_3gNwgjhfmZJ"
      },
      "source": [
        "### Traditional VQE <a name=\"vqe\"></a>"
      ]
    },
    {
      "cell_type": "code",
      "execution_count": null,
      "metadata": {
        "id": "PQvNM9PtfmrG"
      },
      "outputs": [],
      "source": [
        "def vqe_optimization_traditional(molecule_cost, initial_params, max_iter=10, learning_rate=0.1, conv_tol = 1e-6):\n",
        "\n",
        "    opt = tf.keras.optimizers.Adam(learning_rate=learning_rate)\n",
        "\n",
        "    # 初始化变量来存储迭代信息\n",
        "    params = tf.Variable(initial_params)\n",
        "    energy_history = [molecule_cost(params)]\n",
        "    param_history = [params]\n",
        "    conv_iter = max_iter\n",
        "\n",
        "    # 优化循环\n",
        "    for iteration in range(max_iter):\n",
        "        # 计算梯度并更新参数\n",
        "        with tf.GradientTape() as tape:\n",
        "            cost = molecule_cost(params)\n",
        "        gradient = tape.gradient(cost, params)\n",
        "\n",
        "        opt.apply_gradients(zip([gradient],[params]))\n",
        "        param_history.append(params)\n",
        "        energy_history.append(molecule_cost(params))\n",
        "\n",
        "        conv = np.abs(energy_history[-1].numpy() - energy_history[-2].numpy())\n",
        "\n",
        "        # 打印当前迭代的参数和能量值\n",
        "        if iteration%10 == 0:\n",
        "          print(f\"Step =  {iteration+1}/{max_iter}, Energy= {energy_history[-1]:.8f} Ha\")\n",
        "\n",
        "        if conv <= conv_tol:\n",
        "          conv_iter = iteration+1\n",
        "          break\n",
        "\n",
        "    # 返回优化后的参数和能量值，以及每次迭代的记录\n",
        "    return conv_iter, param_history[-1], energy_history[-1], param_history, energy_history"
      ]
    },
    {
      "cell_type": "markdown",
      "metadata": {
        "id": "UCjGOTMSfpKh"
      },
      "source": [
        "## Test <a name=\"test\"></a>\n",
        "### LSTM-VQE (UCCSD ansatz)"
      ]
    },
    {
      "cell_type": "code",
      "execution_count": null,
      "metadata": {
        "id": "Kth6ySpqfplD",
        "colab": {
          "base_uri": "https://localhost:8080/"
        },
        "outputId": "d1c5151e-2539-4a7a-bad0-b29ce2f8ec88"
      },
      "outputs": [
        {
          "metadata": {
            "tags": null
          },
          "name": "stdout",
          "output_type": "stream",
          "text": [
            "Step =  1/100, Energy= -2.89416718 Ha\n",
            "Step =  11/100, Energy= -3.18711448 Ha\n",
            "Step =  21/100, Energy= -3.19362712 Ha\n",
            "Step =  31/100, Energy= -3.20309043 Ha\n",
            "Step =  41/100, Energy= -3.20643759 Ha\n",
            "Step =  51/100, Energy= -3.20800400 Ha\n",
            "Step =  61/100, Energy= -3.20852470 Ha\n",
            "Step =  71/100, Energy= -3.20868826 Ha\n"
          ]
        }
      ],
      "source": [
        "test_molecule_cost_u = vqe_molecule_u(test_set, max_qubits)\n",
        "\n",
        "initial_h_u = tf.zeros(shape=(1, cell_units_u), dtype=tf.float32)\n",
        "initial_c_u = tf.zeros(shape=(1, cell_units_u), dtype=tf.float32)\n",
        "initial_cost_u = tf.zeros(shape=(1, 1), dtype=tf.float32)\n",
        "initial_params_u = tf.zeros(shape=(1,param_dim_u), dtype=tf.float32)\n",
        "\n",
        "# 模型推理，獲得參數\n",
        "test_output_u = rnn_iteration_u([initial_cost_u, initial_params_u, initial_h_u, initial_c_u],\n",
        "                            test_molecule_cost_u,\n",
        "                            param_dim = param_dim_u)\n",
        "\n",
        "\n",
        "lstm_initial_params_u = tf.reshape(test_output_u[1], shape=(max_s_params+max_d_params)).numpy()\n",
        "\n",
        "conv_iter_u, lstm_optimized_params_u, lstm_optimized_energy_u, lstm_param_history_u, lstm_energy_history_u = vqe_optimization(\n",
        "    test_molecule_cost_u,\n",
        "    initial_params=lstm_initial_params_u,\n",
        "    max_iter=100,\n",
        "    learning_rate=0.1,\n",
        "    conv_tol = 1e-6\n",
        ")"
      ]
    },
    {
      "cell_type": "markdown",
      "metadata": {
        "id": "vLM6hi8yfuaP"
      },
      "source": [
        "### Traditional VQE <a name=\"test_traditional\"></a>"
      ]
    },
    {
      "cell_type": "code",
      "execution_count": null,
      "metadata": {
        "id": "YpWjx0KHfuri"
      },
      "outputs": [],
      "source": [
        "molecule_cost = vqe_molecule_u(test_set, max_qubits)\n",
        "# create  weights\n",
        "\n",
        "initial_params = tf.zeros(shape=(max_s_params+max_d_params,), dtype = tf.float32)\n",
        "# VQE\n",
        "conv_iter, optimized_params, optimized_energy, vqe_param_history, vqe_energy_history = vqe_optimization_traditional(\n",
        "    molecule_cost,\n",
        "    initial_params,\n",
        "    max_iter=100,\n",
        "    learning_rate=0.1,\n",
        "    conv_tol = 1e-6\n",
        ")\n",
        "\n",
        "# 输出最终优化结果\n",
        "print(\"Optimized Parameters:\", optimized_params)\n",
        "print(\"Optimized Cost (Energy):\", optimized_energy)"
      ]
    },
    {
      "cell_type": "markdown",
      "metadata": {
        "id": "ovkIPGXwfzxF"
      },
      "source": [
        "## Result <a name=\"result\"></a>"
      ]
    },
    {
      "cell_type": "code",
      "execution_count": null,
      "metadata": {
        "id": "9RKi9BpRfyJg"
      },
      "outputs": [],
      "source": [
        "print(\"=== Comparison of VQE Optimization ===\")\n",
        "print(\"Real data\")\n",
        "print(f\"  Molecule: {test_set.molecule}\")\n",
        "print(f\"  VQE energy: {test_set.vqe_energy}\")\n",
        "print(f\"  FCI energy: {test_set.fci_energy}\")\n",
        "print(f\"  erros(%):{abs((test_set.vqe_energy-test_set.fci_energy)/test_set.fci_energy*100)}%\")\n",
        "print(\"VQE\")\n",
        "error_vqe = optimized_energy - test_set.fci_energy\n",
        "print(f\"  Iter: {conv_iter}\")\n",
        "print(f\"  Final Energy: {optimized_energy}\")\n",
        "print(f\"  error:{error_vqe}\")\n",
        "print(f\"  error(%): {abs(error_vqe/test_set.fci_energy*100)}%\")\n",
        "\n",
        "print(\"LSTM-VQE (UCCSD ansatz)\")\n",
        "error_lstm_u = lstm_optimized_energy_u - test_set.fci_energy\n",
        "print(f\"  Iter: {conv_iter_u}\")\n",
        "print(f\"  Final Energy: {lstm_optimized_energy_u}\")\n",
        "print(f\"  error:{error_lstm_u}\")\n",
        "print(f\"  error(%): {abs(error_lstm_u/test_set.fci_energy*100)}%\")"
      ]
    },
    {
      "cell_type": "code",
      "execution_count": null,
      "metadata": {
        "id": "HUbgXwuWf3No"
      },
      "outputs": [],
      "source": [
        "print(\"=== Comparison of VQE Optimization ===\")\n",
        "print(\"Real data\")\n",
        "print(f\"  Molecule: {test_set.molecule}\")\n",
        "print(f\"  VQE energy: {test_set.vqe_energy}\")\n",
        "print(f\"  FCI energy: {test_set.fci_energy}\")\n",
        "print(f\"  erros(%):{abs((test_set.vqe_energy-test_set.fci_energy)/test_set.fci_energy*100)}%\")\n",
        "print(\"VQE\")\n",
        "error_vqe = optimized_energy - test_set.fci_energy\n",
        "print(f\"  Iter: {conv_iter}\")\n",
        "print(f\"  Final Energy: {optimized_energy}\")\n",
        "print(f\"  error:{error_vqe}\")\n",
        "print(f\"  error(%): {abs(error_vqe/test_set.fci_energy*100)}%\")\n",
        "\n",
        "print(\"LSTM-VQE (UCCSD ansatz)\")\n",
        "error_lstm_u = lstm_optimized_energy_u - test_set.fci_energy\n",
        "print(f\"  Iter: {conv_iter_u}\")\n",
        "print(f\"  Final Energy: {lstm_optimized_energy_u}\")\n",
        "print(f\"  error:{error_lstm_u}\")\n",
        "print(f\"  error(%): {abs(error_lstm_u/test_set.fci_energy*100)}%\")"
      ]
    },
    {
      "cell_type": "markdown",
      "metadata": {
        "id": "g21thMxLf5Tx"
      },
      "source": [
        "## Result (Loss) <a name=\"loss\"></a>"
      ]
    },
    {
      "cell_type": "code",
      "execution_count": null,
      "metadata": {
        "id": "EvKaa0w6f5nS"
      },
      "outputs": [],
      "source": [
        "res = recurrent_loop_u(test_molecule_cost_u, steps=30, intermediate_steps=True)\n",
        "\n",
        "# Extract all angle suggestions\n",
        "start_zeros = tf.zeros(shape=(max_s_params+max_d_params))\n",
        "guesses = [start_zeros] + [\n",
        "    tf.reshape(r, shape=(max_s_params + max_d_params)) for r in res[:-1]\n",
        "    ]\n",
        "\n",
        "\n",
        "final_loss = res[-1]\n",
        "\n",
        "lstm_losses_u = [\n",
        "    test_molecule_cost_u(tf.reshape(guess, shape=(1, max_s_params + max_d_params)))\n",
        "    for guess in guesses\n",
        "]\n",
        "\n",
        "fig, ax = plt.subplots()\n",
        "\n",
        "plt.plot(lstm_losses_u, color=\"blue\", lw=3, ls=\"-.\", label=\"LSTM\")\n",
        "\n",
        "plt.grid(ls=\"--\", lw=2, alpha=0.25)\n",
        "plt.ylabel(\"Cost function\", fontsize=12)\n",
        "plt.xlabel(\"Iteration\", fontsize=12)\n",
        "plt.legend()\n",
        "#ax.set_xticks([0, 5, 10, 15, 20])\n",
        "ax.set_xticks(range(0, len(lstm_losses_u)))\n",
        "plt.show()"
      ]
    }
  ],
  "metadata": {
    "colab": {
      "provenance": [],
      "gpuType": "T4"
    },
    "kernelspec": {
      "display_name": "Python 3",
      "name": "python3"
    },
    "language_info": {
      "codemirror_mode": {
        "name": "ipython",
        "version": 3
      },
      "file_extension": ".py",
      "mimetype": "text/x-python",
      "name": "python",
      "nbconvert_exporter": "python",
      "pygments_lexer": "ipython3",
      "version": "3.10.16"
    },
    "accelerator": "GPU"
  },
  "nbformat": 4,
  "nbformat_minor": 0
}